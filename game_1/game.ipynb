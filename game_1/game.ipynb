{
 "cells": [
  {
   "cell_type": "code",
   "execution_count": null,
   "metadata": {},
   "outputs": [
    {
     "name": "stdout",
     "output_type": "stream",
     "text": [
      "59\n"
     ]
    }
   ],
   "source": [
    "\"\"\"программа угадай число\"\"\"\n",
    "import numpy as np\n",
    "\n",
    "num_random = np.random.randint(1, 101)\n",
    "chislo = 101\n",
    "print(num_random)\n",
    "while chislo != num_random:\n",
    "    chislo = input()\n",
    "    chislo = int(chislo)\n",
    "    if chislo != num_random:\n",
    "        print('Не угодал\\n')\n",
    "print('МОЛОДЕЦ')"
   ]
  }
 ],
 "metadata": {
  "kernelspec": {
   "display_name": "Python 3",
   "language": "python",
   "name": "python3"
  },
  "language_info": {
   "codemirror_mode": {
    "name": "ipython",
    "version": 3
   },
   "file_extension": ".py",
   "mimetype": "text/x-python",
   "name": "python",
   "nbconvert_exporter": "python",
   "pygments_lexer": "ipython3",
   "version": "3.13.0"
  }
 },
 "nbformat": 4,
 "nbformat_minor": 2
}
